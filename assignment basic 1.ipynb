{
 "cells": [
  {
   "cell_type": "code",
   "execution_count": 1,
   "id": "7c481135-5e1e-4dc0-9e18-9dfcab5f9fc6",
   "metadata": {},
   "outputs": [
    {
     "name": "stdout",
     "output_type": "stream",
     "text": [
      "23 is a prime number.\n"
     ]
    }
   ],
   "source": [
    "# Check if a number is prime or not\n",
    "\n",
    "num = 23\n",
    "\n",
    "if num > 1:\n",
    "    for i in range(2, int(num**0.5) + 1):\n",
    "        if num % i == 0:\n",
    "            print(num, \"is not a prime number.\")\n",
    "            break\n",
    "    else:\n",
    "        print(num, \"is a prime number.\")\n",
    "else:\n",
    "    print(num, \"is not a prime number.\")\n"
   ]
  },
  {
   "cell_type": "code",
   "execution_count": 2,
   "id": "a2c26b4f-167f-498e-a9a0-f03225aec256",
   "metadata": {},
   "outputs": [
    {
     "name": "stdout",
     "output_type": "stream",
     "text": [
      "Multiply: 4 × 10\n"
     ]
    },
    {
     "name": "stdin",
     "output_type": "stream",
     "text": [
      "Enter the product of the above numbers:  40\n"
     ]
    },
    {
     "name": "stdout",
     "output_type": "stream",
     "text": [
      "✅ Correct! Well done.\n"
     ]
    }
   ],
   "source": [
    "import random\n",
    "\n",
    "# Generate two random numbers between 1 and 10\n",
    "num1 = random.randint(1, 10)\n",
    "num2 = random.randint(1, 10)\n",
    "\n",
    "\n",
    "print(f\"Multiply: {num1} × {num2}\")\n",
    "\n",
    "# Ask user for the product\n",
    "user_answer = int(input(\"Enter the product of the above numbers: \"))\n",
    "correct_answer = num1 * num2\n",
    "if user_answer == correct_answer:\n",
    "    print(\"✅ Correct! Well done.\")\n",
    "else:\n",
    "    print(f\"❌ Incorrect. The correct answer is {correct_answer}.\")\n"
   ]
  },
  {
   "cell_type": "code",
   "execution_count": 11,
   "id": "4c367053-32c2-43a8-b3b8-09da02328869",
   "metadata": {},
   "outputs": [
    {
     "name": "stdout",
     "output_type": "stream",
     "text": [
      "Squares of even numbers between 100 and 200:\n",
      "100² = 10000\n",
      "102² = 10404\n",
      "104² = 10816\n",
      "106² = 11236\n",
      "108² = 11664\n",
      "110² = 12100\n",
      "112² = 12544\n",
      "114² = 12996\n",
      "116² = 13456\n",
      "118² = 13924\n",
      "120² = 14400\n",
      "122² = 14884\n",
      "124² = 15376\n",
      "126² = 15876\n",
      "128² = 16384\n",
      "130² = 16900\n",
      "132² = 17424\n",
      "134² = 17956\n",
      "136² = 18496\n",
      "138² = 19044\n",
      "140² = 19600\n",
      "142² = 20164\n",
      "144² = 20736\n",
      "146² = 21316\n",
      "148² = 21904\n",
      "150² = 22500\n",
      "152² = 23104\n",
      "154² = 23716\n",
      "156² = 24336\n",
      "158² = 24964\n",
      "160² = 25600\n",
      "162² = 26244\n",
      "164² = 26896\n",
      "166² = 27556\n",
      "168² = 28224\n",
      "170² = 28900\n",
      "172² = 29584\n",
      "174² = 30276\n",
      "176² = 30976\n",
      "178² = 31684\n",
      "180² = 32400\n",
      "182² = 33124\n",
      "184² = 33856\n",
      "186² = 34596\n",
      "188² = 35344\n",
      "190² = 36100\n",
      "192² = 36864\n",
      "194² = 37636\n",
      "196² = 38416\n",
      "198² = 39204\n",
      "200² = 40000\n"
     ]
    }
   ],
   "source": [
    "# Choice: Printing squares of EVEN numbers from 100 to 200\n",
    "\n",
    "print(\"Squares of even numbers between 100 and 200:\")\n",
    "\n",
    "for num in range(100, 201):   # range up to 200 (inclusive)\n",
    "    if num % 2 == 0:          # Check for even number\n",
    "        print(f\"{num}² = {num ** 2}\")\n"
   ]
  },
  {
   "cell_type": "code",
   "execution_count": 23,
   "id": "5b8b67ab-1ae7-4181-8561-505e66527450",
   "metadata": {},
   "outputs": [
    {
     "name": "stdout",
     "output_type": "stream",
     "text": [
      "----- Hospital Bill -----\n",
      "Room Charges: ₹8000\n",
      "Lab Test Charges: ₹900\n",
      "Doctor Fee: ₹1500\n",
      "Medicine Charges: ₹2400\n",
      "Total (Before Discount): ₹12800\n",
      "Discount: ₹1280.0\n",
      "Final Bill: ₹11520.0\n"
     ]
    }
   ],
   "source": [
    "# Hospital Billing System\n",
    "\n",
    "# Given data\n",
    "room_charge_per_day = 2000\n",
    "doctor_fee = 1500\n",
    "lab_test_cost = 300\n",
    "\n",
    "# Patient details\n",
    "days_stayed = 4\n",
    "lab_tests = 3\n",
    "medicine_charges = 2400\n",
    "\n",
    "# Calculate individual costs\n",
    "room_charges = days_stayed * room_charge_per_day\n",
    "lab_charges = lab_tests * lab_test_cost\n",
    "total_before_discount = room_charges + lab_charges + doctor_fee + medicine_charges\n",
    "\n",
    "# Apply discount if applicable\n",
    "if total_before_discount > 10000:\n",
    "    discount = total_before_discount * 0.10\n",
    "else:\n",
    "    discount = 0\n",
    "\n",
    "final_bill = total_before_discount - discount\n",
    "\n",
    "# Display bill\n",
    "print(\"----- Hospital Bill -----\")\n",
    "print(f\"Room Charges: ₹{room_charges}\")\n",
    "print(f\"Lab Test Charges: ₹{lab_charges}\")\n",
    "print(f\"Doctor Fee: ₹{doctor_fee}\")\n",
    "print(f\"Medicine Charges: ₹{medicine_charges}\")\n",
    "print(f\"Total (Before Discount): ₹{total_before_discount}\")\n",
    "print(f\"Discount: ₹{discount}\")\n",
    "print(f\"Final Bill: ₹{final_bill}\")\n"
   ]
  },
  {
   "cell_type": "code",
   "execution_count": null,
   "id": "ab6b52bf-1c77-41b2-9e58-33d222d7a714",
   "metadata": {},
   "outputs": [],
   "source": []
  },
  {
   "cell_type": "code",
   "execution_count": null,
   "id": "dfe7cc9a-2b2b-4fea-98dc-97691ec1e36f",
   "metadata": {},
   "outputs": [],
   "source": []
  }
 ],
 "metadata": {
  "kernelspec": {
   "display_name": "Python 3 (ipykernel)",
   "language": "python",
   "name": "python3"
  },
  "language_info": {
   "codemirror_mode": {
    "name": "ipython",
    "version": 3
   },
   "file_extension": ".py",
   "mimetype": "text/x-python",
   "name": "python",
   "nbconvert_exporter": "python",
   "pygments_lexer": "ipython3",
   "version": "3.13.5"
  }
 },
 "nbformat": 4,
 "nbformat_minor": 5
}
