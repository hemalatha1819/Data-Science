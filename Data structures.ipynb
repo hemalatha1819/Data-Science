{
 "cells": [
  {
   "cell_type": "code",
   "execution_count": 135,
   "id": "a895ef9c-88bf-4be1-893d-8156ee693718",
   "metadata": {},
   "outputs": [],
   "source": [
    "                                    #section-A:-Datastructures and control structures"
   ]
  },
  {
   "cell_type": "code",
   "execution_count": 133,
   "id": "09c42c37-9f8f-47bc-a1fd-db6bf87df740",
   "metadata": {},
   "outputs": [
    {
     "data": {
      "text/plain": [
       "[1, 2, 3, 4, 5]"
      ]
     },
     "execution_count": 133,
     "metadata": {},
     "output_type": "execute_result"
    }
   ],
   "source": [
    "# Data structures set A\n",
    "# list it is mutable it can be modify  \n",
    "D=[1,2,3,4,5]\n",
    "D"
   ]
  },
  {
   "cell_type": "code",
   "execution_count": 3,
   "id": "0798259d-ff85-4b6d-b2c7-905929a5b5bd",
   "metadata": {},
   "outputs": [
    {
     "data": {
      "text/plain": [
       "[1, 2, 3, 4, 5, 6]"
      ]
     },
     "execution_count": 3,
     "metadata": {},
     "output_type": "execute_result"
    }
   ],
   "source": [
    "D.append(6)     #adding the values\n",
    "D"
   ]
  },
  {
   "cell_type": "code",
   "execution_count": 4,
   "id": "b0b592cd-6ab7-458c-8df8-9eedcf68c4cc",
   "metadata": {},
   "outputs": [
    {
     "data": {
      "text/plain": [
       "[7, 8, 9, 10]"
      ]
     },
     "execution_count": 4,
     "metadata": {},
     "output_type": "execute_result"
    }
   ],
   "source": [
    "D1=[7,8,9,10]\n",
    "D1"
   ]
  },
  {
   "cell_type": "code",
   "execution_count": 5,
   "id": "87e8e8a3-1332-4502-8d46-3b596f804585",
   "metadata": {},
   "outputs": [
    {
     "data": {
      "text/plain": [
       "[1, 2, 3, 4, 5, 6, 7, 8, 9, 10]"
      ]
     },
     "execution_count": 5,
     "metadata": {},
     "output_type": "execute_result"
    }
   ],
   "source": [
    "D.extend(D1)\n",
    "D"
   ]
  },
  {
   "cell_type": "code",
   "execution_count": 6,
   "id": "524f9703-3417-4c53-88f3-6421b29cacac",
   "metadata": {},
   "outputs": [
    {
     "data": {
      "text/plain": [
       "[1, 2, 11, 3, 4, 5, 6, 7, 8, 9, 10]"
      ]
     },
     "execution_count": 6,
     "metadata": {},
     "output_type": "execute_result"
    }
   ],
   "source": [
    "D.insert(2,11)\n",
    "D"
   ]
  },
  {
   "cell_type": "code",
   "execution_count": 7,
   "id": "fea0efa1-d65f-4fce-bac3-11867f398a66",
   "metadata": {},
   "outputs": [
    {
     "data": {
      "text/plain": [
       "[1, 2, 3, 4, 5, 6, 7, 8, 9, 10]"
      ]
     },
     "execution_count": 7,
     "metadata": {},
     "output_type": "execute_result"
    }
   ],
   "source": [
    "D.remove(11)\n",
    "D"
   ]
  },
  {
   "cell_type": "code",
   "execution_count": 8,
   "id": "ef1379dd-023e-48c4-b557-63388bf49a12",
   "metadata": {},
   "outputs": [
    {
     "data": {
      "text/plain": [
       "[1, 2, 3, 4, 5, 6, 7, 8, 9]"
      ]
     },
     "execution_count": 8,
     "metadata": {},
     "output_type": "execute_result"
    }
   ],
   "source": [
    "D.pop()\n",
    "D"
   ]
  },
  {
   "cell_type": "code",
   "execution_count": 14,
   "id": "7a6bbb25-26f7-4c27-a077-81c481bc78cf",
   "metadata": {},
   "outputs": [
    {
     "data": {
      "text/plain": [
       "9"
      ]
     },
     "execution_count": 14,
     "metadata": {},
     "output_type": "execute_result"
    }
   ],
   "source": [
    "len(D)\n",
    "\n"
   ]
  },
  {
   "cell_type": "code",
   "execution_count": 16,
   "id": "3f3fffff-a353-44e8-b86d-091e9208dcb1",
   "metadata": {},
   "outputs": [
    {
     "data": {
      "text/plain": [
       "[1, 2, 3, 4, 5, 6, 7, 8, 9]"
      ]
     },
     "execution_count": 16,
     "metadata": {},
     "output_type": "execute_result"
    }
   ],
   "source": [
    "D.sort()\n",
    "D"
   ]
  },
  {
   "cell_type": "code",
   "execution_count": 17,
   "id": "4dde2e47-ddb5-402b-81c3-d52a24e70a7c",
   "metadata": {},
   "outputs": [
    {
     "data": {
      "text/plain": [
       "[9, 8, 7, 6, 5, 4, 3, 2, 1]"
      ]
     },
     "execution_count": 17,
     "metadata": {},
     "output_type": "execute_result"
    }
   ],
   "source": [
    "D.reverse()\n",
    "D"
   ]
  },
  {
   "cell_type": "code",
   "execution_count": 18,
   "id": "f168e164-9b47-4a78-952e-9f13df2e985a",
   "metadata": {},
   "outputs": [
    {
     "data": {
      "text/plain": [
       "[]"
      ]
     },
     "execution_count": 18,
     "metadata": {},
     "output_type": "execute_result"
    }
   ],
   "source": [
    "D.clear()\n",
    "D"
   ]
  },
  {
   "cell_type": "code",
   "execution_count": 27,
   "id": "1f49ffad-5863-43ba-a9de-b1ad5ca492a9",
   "metadata": {},
   "outputs": [
    {
     "ename": "TypeError",
     "evalue": "'tuple' object does not support item assignment",
     "output_type": "error",
     "traceback": [
      "\u001b[1;31m---------------------------------------------------------------------------\u001b[0m",
      "\u001b[1;31mTypeError\u001b[0m                                 Traceback (most recent call last)",
      "Cell \u001b[1;32mIn[27], line 6\u001b[0m\n\u001b[0;32m      3\u001b[0m students \u001b[38;5;241m=\u001b[39m (\u001b[38;5;124m\"\u001b[39m\u001b[38;5;124mRavi\u001b[39m\u001b[38;5;124m\"\u001b[39m, \u001b[38;5;124m\"\u001b[39m\u001b[38;5;124mSita\u001b[39m\u001b[38;5;124m\"\u001b[39m, \u001b[38;5;124m\"\u001b[39m\u001b[38;5;124mKiran\u001b[39m\u001b[38;5;124m\"\u001b[39m)\n\u001b[0;32m      5\u001b[0m \u001b[38;5;66;03m# Trying to change the second name\u001b[39;00m\n\u001b[1;32m----> 6\u001b[0m students[\u001b[38;5;241m1\u001b[39m] \u001b[38;5;241m=\u001b[39m \u001b[38;5;124m\"\u001b[39m\u001b[38;5;124mAnjali\u001b[39m\u001b[38;5;124m\"\u001b[39m\n",
      "\u001b[1;31mTypeError\u001b[0m: 'tuple' object does not support item assignment"
     ]
    }
   ],
   "source": [
    "# 2) tuple\n",
    "# Creating a tuple with 3 student names\n",
    "students = (\"hema\", \"sweety\", \"shiva\")\n",
    "\n",
    "# Trying to change the second name\n",
    "students[1] = \"Anjali\"\n",
    " # it can not be change or modify because it is immutable"
   ]
  },
  {
   "cell_type": "code",
   "execution_count": 32,
   "id": "3ad649ff-6efd-4ecb-ba94-09943d19ed1d",
   "metadata": {},
   "outputs": [
    {
     "data": {
      "text/plain": [
       "{1, 2, 4, 5, 6, 7, 8, 9, 10, 11, 12}"
      ]
     },
     "execution_count": 32,
     "metadata": {},
     "output_type": "execute_result"
    }
   ],
   "source": [
    "# 2) set\n",
    "S1=[1,2,4,4,5,5,8,9,6,7,10,12,11]\n",
    "S2=set(S1)  #it will remove duplicates and it will arrange in order\n",
    "S2"
   ]
  },
  {
   "cell_type": "code",
   "execution_count": 42,
   "id": "eb33267a-789a-4ecb-80af-75b1c5a2b868",
   "metadata": {},
   "outputs": [
    {
     "data": {
      "text/plain": [
       "{'name': 'hema', 'age': 22, 'city': 'hyd'}"
      ]
     },
     "execution_count": 42,
     "metadata": {},
     "output_type": "execute_result"
    }
   ],
   "source": [
    "# 4) dictinory it contains keys and values   \n",
    "f1={\"name\":'hema',\"age\":22,\"city\":'hyd'}   \n",
    "f1"
   ]
  },
  {
   "cell_type": "code",
   "execution_count": 43,
   "id": "22b6760b-a05a-45a7-b131-f188d2588a0a",
   "metadata": {},
   "outputs": [
    {
     "data": {
      "text/plain": [
       "{'name': 'hema', 'age': 22, 'city': 'hyd', 'email': 'hema@'}"
      ]
     },
     "execution_count": 43,
     "metadata": {},
     "output_type": "execute_result"
    }
   ],
   "source": [
    "f1[\"email\"]=\"hema@\"  # added the new key email \n",
    "f1"
   ]
  },
  {
   "cell_type": "code",
   "execution_count": 9,
   "id": "834a389e-f6d0-4902-9975-380258eff3c0",
   "metadata": {},
   "outputs": [
    {
     "name": "stdout",
     "output_type": "stream",
     "text": [
      " you are eligible to vote\n"
     ]
    }
   ],
   "source": [
    "#5) if statement \n",
    "age=24    \n",
    "if age>=18:\n",
    "    print(\" you are eligible to vote\")"
   ]
  },
  {
   "cell_type": "code",
   "execution_count": 29,
   "id": "3bff0656-afbb-41dd-b6a0-c06de67ef8ed",
   "metadata": {},
   "outputs": [
    {
     "name": "stdout",
     "output_type": "stream",
     "text": [
      "Grade: B\n"
     ]
    }
   ],
   "source": [
    "#6) if-else-statement\n",
    "# Example marks variable\n",
    "marks = 75\n",
    "if marks >= 90 and marks<=90:\n",
    "    print(\"Grade: A\")\n",
    "elif marks >= 75 and marks<=89:  # 75 to 89\n",
    "    print(\"Grade: B\")\n",
    "elif marks >= 50 :  # 50 to 74\n",
    "    print(\"Grade: C\")\n",
    "else:  # below 50\n",
    "    print(\"Fail\")\n",
    "\n",
    "                  \n",
    "                      \n",
    "            \n",
    "                  "
   ]
  },
  {
   "cell_type": "code",
   "execution_count": 70,
   "id": "2b441b28-7b81-43e9-84cb-deaccfd6f386",
   "metadata": {},
   "outputs": [
    {
     "name": "stdout",
     "output_type": "stream",
     "text": [
      "The number is positive but not even.\n"
     ]
    }
   ],
   "source": [
    "# 7) Input number\n",
    "num = 19\n",
    "if num > 0:\n",
    "    if num % 2 == 0:\n",
    "        print(\"The number is positive and even.\")\n",
    "    else:\n",
    "        print(\"The number is positive but not even.\")\n",
    "elif num == 0:\n",
    "    print(\"The number is zero.\")\n",
    "else:\n",
    "    print(\"The number is negative.\")\n"
   ]
  },
  {
   "cell_type": "code",
   "execution_count": 71,
   "id": "ffbed8ad-23fd-4219-9505-b8a64988f3bc",
   "metadata": {},
   "outputs": [],
   "source": [
    "                                         # section -B (Numpy)"
   ]
  },
  {
   "cell_type": "code",
   "execution_count": 73,
   "id": "f40e8e85-97a1-4094-8109-b3dd83fd3ed7",
   "metadata": {},
   "outputs": [
    {
     "name": "stdout",
     "output_type": "stream",
     "text": [
      "scalar: 5\n",
      "1D array: [1 2 3 4 5]\n",
      "2D array:\n",
      " [[10 20 30]\n",
      " [40 50 60]]\n"
     ]
    }
   ],
   "source": [
    "# 8) numpy \n",
    "import numpy as np\n",
    "N=np.array(5)\n",
    "print(\"scalar:\",N)\n",
    "N1=np.array([1,2,3,4,5])\n",
    "print(\"1D array:\",N1) \n",
    "N2=np.array([[10,20,30],[40,50,60]])\n",
    "print(\"2D array:\\n\",N2)     #2D array "
   ]
  },
  {
   "cell_type": "code",
   "execution_count": 74,
   "id": "87084df0-4ba2-4d45-a444-93e4a70fffd0",
   "metadata": {},
   "outputs": [
    {
     "data": {
      "text/plain": [
       "array([[37, 57, 21, 84],\n",
       "       [30, 50,  2, 17],\n",
       "       [42, 80, 14, 85],\n",
       "       [89, 33, 42, 66]], dtype=int32)"
      ]
     },
     "execution_count": 74,
     "metadata": {},
     "output_type": "execute_result"
    }
   ],
   "source": [
    "#9) random numbers 0-100\n",
    "R=np.random.randint(0,100,size=(4,4))\n",
    "R"
   ]
  },
  {
   "cell_type": "code",
   "execution_count": 96,
   "id": "3884780e-3523-4b2c-ac1b-717c2de50160",
   "metadata": {},
   "outputs": [
    {
     "name": "stdout",
     "output_type": "stream",
     "text": [
      "[[10 20 30]\n",
      " [40 50 60]\n",
      " [70 80 90]]\n",
      "    0   1   2\n",
      "0  10  20  30\n",
      "1  40  50  60\n",
      "2  70  80  90\n",
      "    A   B   C\n",
      "0  10  20  30\n",
      "1  40  50  60\n",
      "2  70  80  90\n"
     ]
    }
   ],
   "source": [
    "#10) convert into DataFrame\n",
    "D=np.array([[10,20,30],[40,50,60],[70,80,90]])  # created a 2D numpy array of shape (3x3)\n",
    "print(D)\n",
    "import pandas as pd\n",
    "S=pd.DataFrame(data)  # converted into pandas DataFrame\n",
    "print(S)\n",
    "S.columns=[\"A\",\"B\",\"C\"]  # added names into columns names\n",
    "print(S)"
   ]
  },
  {
   "cell_type": "code",
   "execution_count": null,
   "id": "01786112-991f-4c6d-bf7e-a0c2dfe73262",
   "metadata": {},
   "outputs": [],
   "source": [
    "                                     section-c:-exploring pandas"
   ]
  },
  {
   "cell_type": "code",
   "execution_count": 132,
   "id": "db2f777d-228a-4b6b-8759-c21abead39f7",
   "metadata": {},
   "outputs": [
    {
     "name": "stdout",
     "output_type": "stream",
     "text": [
      "       Name  Age City   Salary\n",
      "0      hema   22   NY  50000.0\n",
      "1  shivaram   43   LA  60000.0\n",
      "2   sravani   67   SF  55000.0\n",
      "3    harsha   89   NY      NaN\n",
      "4    swathi   23   LA  58000.0\n",
      "5    sowmya   24   SF  62000.0\n",
      "6      maha   23   NY  57000.0\n",
      "7    killer   21   LA  61000.0\n",
      "8    sweety   18   SF  59000.0\n",
      "9     jannu   19   NY   6000.0\n",
      "<class 'pandas.core.frame.DataFrame'>\n",
      "RangeIndex: 10 entries, 0 to 9\n",
      "Data columns (total 4 columns):\n",
      " #   Column  Non-Null Count  Dtype  \n",
      "---  ------  --------------  -----  \n",
      " 0   Name    10 non-null     object \n",
      " 1   Age     10 non-null     int64  \n",
      " 2   City    10 non-null     object \n",
      " 3   Salary  9 non-null      float64\n",
      "dtypes: float64(1), int64(1), object(2)\n",
      "memory usage: 452.0+ bytes\n",
      "       Name City\n",
      "0      hema   NY\n",
      "1  shivaram   LA\n",
      "2   sravani   SF\n",
      "3    harsha   NY\n",
      "4    swathi   LA\n",
      "5    sowmya   SF\n",
      "6      maha   NY\n",
      "7    killer   LA\n",
      "8    sweety   SF\n",
      "9     jannu   NY\n",
      "\n",
      "DataFrame without City column:\n",
      "       Name  Age   Salary\n",
      "0      hema   22  50000.0\n",
      "1  shivaram   43  60000.0\n",
      "2   sravani   67  55000.0\n",
      "3    harsha   89      NaN\n",
      "4    swathi   23  58000.0\n",
      "5    sowmya   24  62000.0\n",
      "6      maha   23  57000.0\n",
      "7    killer   21  61000.0\n",
      "8    sweety   18  59000.0\n",
      "9     jannu   19   6000.0\n",
      "\n",
      "DataFrame after filling missing Salary values:\n",
      "       Name  Age City   Salary\n",
      "0      hema   22   NY  50000.0\n",
      "1  shivaram   43   LA  60000.0\n",
      "2   sravani   67   SF  55000.0\n",
      "3    harsha   89   NY  52000.0\n",
      "4    swathi   23   LA  58000.0\n",
      "5    sowmya   24   SF  62000.0\n",
      "6      maha   23   NY  57000.0\n",
      "7    killer   21   LA  61000.0\n",
      "8    sweety   18   SF  59000.0\n",
      "9     jannu   19   NY   6000.0\n",
      "\n",
      "DataFrame after removing duplicates:\n",
      "       Name  Age City   Salary\n",
      "0      hema   22   NY  50000.0\n",
      "1  shivaram   43   LA  60000.0\n",
      "2   sravani   67   SF  55000.0\n",
      "3    harsha   89   NY  52000.0\n",
      "4    swathi   23   LA  58000.0\n",
      "5    sowmya   24   SF  62000.0\n",
      "6      maha   23   NY  57000.0\n",
      "7    killer   21   LA  61000.0\n",
      "8    sweety   18   SF  59000.0\n",
      "9     jannu   19   NY   6000.0\n"
     ]
    },
    {
     "name": "stderr",
     "output_type": "stream",
     "text": [
      "C:\\Users\\Hema\\AppData\\Local\\Temp\\ipykernel_13848\\2266953880.py:18: FutureWarning: A value is trying to be set on a copy of a DataFrame or Series through chained assignment using an inplace method.\n",
      "The behavior will change in pandas 3.0. This inplace method will never work because the intermediate object on which we are setting values always behaves as a copy.\n",
      "\n",
      "For example, when doing 'df[col].method(value, inplace=True)', try using 'df.method({col: value}, inplace=True)' or df[col] = df[col].method(value) instead, to perform the operation inplace on the original object.\n",
      "\n",
      "\n",
      "  df['Salary'].fillna(value=df2, inplace=True)\n"
     ]
    }
   ],
   "source": [
    "#11) exploring data\n",
    "import pandas as pd\n",
    "import numpy as np\n",
    "data={\"Name\": ['hema','shivaram','sravani','harsha','swathi','sowmya','maha','killer','sweety','jannu'],\n",
    "     \"Age\":[22,43,67,89,23,24,23,21,18,19],\n",
    "      \"City\": ['NY', 'LA', 'SF', 'NY', 'LA', 'SF', 'NY', 'LA', 'SF', 'NY'],\n",
    "      \"Salary\": [50000, 60000, 55000, np.nan, 58000, 62000, 57000, 61000, 59000, 6000]} # 1. Create a DataFrame manually\n",
    "df=pd.DataFrame(data)  \n",
    "print(df)    # 2. Display DataFrame info and statistics\n",
    "df.info()   \n",
    "df.describe()\n",
    "print(df[[\"Name\",\"City\"]]) # 3. Select 'Name' and 'City' columns\n",
    "df1 = df.drop('City', axis=1)\n",
    "print(\"\\nDataFrame without City column:\") # 4. Drop 'City' column\n",
    "print(df1)\n",
    "df2=np.round(df[\"Salary\"].mean(),1)\n",
    "df2\n",
    "df['Salary'].fillna(value=df2, inplace=True)\n",
    "print(\"\\nDataFrame after filling missing Salary values:\") # 5. Fill missing values in 'Salary' with mean\n",
    "print(df)\n",
    "df3 = df.drop_duplicates()\n",
    "print(\"\\nDataFrame after removing duplicates:\")  # 6. Remove duplicate rows (if any)\n",
    "print(df3)\n",
    "\n"
   ]
  },
  {
   "cell_type": "code",
   "execution_count": null,
   "id": "98e7bf3a-719e-4537-95a5-7b146e6b0cbe",
   "metadata": {},
   "outputs": [],
   "source": []
  }
 ],
 "metadata": {
  "kernelspec": {
   "display_name": "Python 3 (ipykernel)",
   "language": "python",
   "name": "python3"
  },
  "language_info": {
   "codemirror_mode": {
    "name": "ipython",
    "version": 3
   },
   "file_extension": ".py",
   "mimetype": "text/x-python",
   "name": "python",
   "nbconvert_exporter": "python",
   "pygments_lexer": "ipython3",
   "version": "3.13.5"
  }
 },
 "nbformat": 4,
 "nbformat_minor": 5
}
